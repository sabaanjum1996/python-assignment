{
  "nbformat": 4,
  "nbformat_minor": 0,
  "metadata": {
    "colab": {
      "provenance": []
    },
    "kernelspec": {
      "name": "python3",
      "display_name": "Python 3"
    },
    "language_info": {
      "name": "python"
    }
  },
  "cells": [
    {
      "cell_type": "markdown",
      "source": [
        "Take three numbers 'x', 'y' and 'z' as input from the user and check which number is greater\n"
      ],
      "metadata": {
        "id": "AcR_27Hh5QTe"
      }
    },
    {
      "cell_type": "code",
      "source": [
        "x=int(input('enter your number'))\n",
        "y=int(input('enter your number'))\n",
        "z=int(input('enter your number'))\n",
        "if x>y and x>z:\n",
        "  print('x is greater')\n",
        "elif y>z and y>x:\n",
        "  print('y is greater')\n",
        "else:\n",
        "  print('z is greater')"
      ],
      "metadata": {
        "colab": {
          "base_uri": "https://localhost:8080/"
        },
        "id": "tpq5zgLP9aW6",
        "outputId": "8d5312ea-47bf-490b-be0f-02d4335aee2f"
      },
      "execution_count": 1,
      "outputs": [
        {
          "output_type": "stream",
          "name": "stdout",
          "text": [
            "enter your number15\n",
            "enter your number50\n",
            "enter your number32\n",
            "y is greater\n"
          ]
        }
      ]
    },
    {
      "cell_type": "markdown",
      "source": [
        "Take an alphabet as input from the user and check if the alphabet is a vowel, consonant or an exception\n",
        "\n",
        "\n",
        "Vowel - 'a','e','i','o','u'\n",
        "\n",
        "Exception - 'h', 'y'\n",
        "\n",
        "Consonant - rest other alphabets"
      ],
      "metadata": {
        "id": "QgkCsQlx4c5Y"
      }
    },
    {
      "cell_type": "code",
      "source": [
        "alphabet=str(input('enter your alphabet'))\n",
        "if alphabet=='a'or alphabet=='e'or alphabet=='i'or alphabet=='o'or alphabet=='u':\n",
        "  print('alphabet is vowel ')\n",
        "elif alphabet=='h'or alphabet=='y':\n",
        "  print('this is and exception alphabet ')\n",
        "else:\n",
        "  print('this is an consonant')"
      ],
      "metadata": {
        "colab": {
          "base_uri": "https://localhost:8080/"
        },
        "id": "WxQHgOEr9vL4",
        "outputId": "c2762fe0-00e0-42e8-c838-0b4e27da68d2"
      },
      "execution_count": 3,
      "outputs": [
        {
          "output_type": "stream",
          "name": "stdout",
          "text": [
            "enter your alphabeto\n",
            "alphabet is vowel \n"
          ]
        }
      ]
    },
    {
      "cell_type": "markdown",
      "source": [
        "Write a program to check whether a number given by a user is divisible by 2 and 3 both"
      ],
      "metadata": {
        "id": "5TqcIsuG4N4x"
      }
    },
    {
      "cell_type": "code",
      "source": [
        "num=int(input('enter your number :'))\n",
        "if num%2==0 and num%3==0:\n",
        "              print('num is divisible by 2 and 3 both')\n",
        "else:\n",
        "    print('num is not divisible by 2 and 3 both')"
      ],
      "metadata": {
        "colab": {
          "base_uri": "https://localhost:8080/"
        },
        "id": "BGW765zC-P8-",
        "outputId": "5056aafa-0a57-4f2e-a379-197ac0b5f18d"
      },
      "execution_count": 4,
      "outputs": [
        {
          "output_type": "stream",
          "name": "stdout",
          "text": [
            "enter your number :20\n",
            "num is not divisible by 2 and 3 both\n"
          ]
        }
      ]
    },
    {
      "cell_type": "markdown",
      "source": [
        "Write a program to accept the cost price  of a bike as input and display the road tax to be paid according to the following crieteria :-\n",
        "\n",
        "Cost price - 100000 Tax - 15%\n",
        "\n",
        "Cost price - between 50000 to 100000 Tax - 10%\n",
        "\n",
        "Cost price - less than 50000 Tax - 5%"
      ],
      "metadata": {
        "id": "Vl0l7eM93o-k"
      }
    },
    {
      "cell_type": "code",
      "source": [
        "bike_cost=int(input('enter your bike cost :'))\n",
        "if bike_cost >=100000:\n",
        "  print('you have to pay 15 road tax')\n",
        "elif 50000<=bike_cost<=100000:\n",
        "  print('you have to pay 10% road tax')\n",
        "else:\n",
        "    print('you have to pay 5% road tax')"
      ],
      "metadata": {
        "colab": {
          "base_uri": "https://localhost:8080/"
        },
        "id": "6UZYc3FC-fgx",
        "outputId": "a68fbc4a-cd84-438a-c5ab-bdab6ed0bea4"
      },
      "execution_count": 6,
      "outputs": [
        {
          "output_type": "stream",
          "name": "stdout",
          "text": [
            "enter your bike cost :25000\n",
            "you have to pay 5% road tax\n"
          ]
        }
      ]
    },
    {
      "cell_type": "markdown",
      "source": [
        "Write a program to calculate the electricity bill by accepting the number of units consumed by the user as input. Use the following price chart for reference :-\n",
        "\n",
        "Price of first 100 units - no charge\n",
        "\n",
        "Price of next 100 units - Rs 5/- per unit\n",
        "\n",
        "After 200 units - Rs 10/- per unit"
      ],
      "metadata": {
        "id": "4qwB-dyV2vdv"
      }
    },
    {
      "cell_type": "code",
      "source": [
        "electricity_unit=int(input('enter your electricity unit '))\n",
        "if electricity_unit<=100:\n",
        "  print('no charge')\n",
        "elif electricity_unit<=200:\n",
        "  print('you need to pay Rs.5 per unit')\n",
        "else:\n",
        "     print('you have to pay 10 repees per unit')"
      ],
      "metadata": {
        "colab": {
          "base_uri": "https://localhost:8080/"
        },
        "id": "IodL-oTf-uVY",
        "outputId": "1cb9d001-7583-49f5-ffbd-e639837fb2f7"
      },
      "execution_count": 9,
      "outputs": [
        {
          "output_type": "stream",
          "name": "stdout",
          "text": [
            "enter your electricity unit 95\n",
            "no charge\n"
          ]
        }
      ]
    }
  ]
}