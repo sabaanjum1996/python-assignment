{
  "nbformat": 4,
  "nbformat_minor": 0,
  "metadata": {
    "colab": {
      "provenance": []
    },
    "kernelspec": {
      "name": "python3",
      "display_name": "Python 3"
    },
    "language_info": {
      "name": "python"
    }
  },
  "cells": [
    {
      "cell_type": "markdown",
      "source": [
        "Define a function that accepts a number and returns whether the number is even or odd."
      ],
      "metadata": {
        "id": "SA0zwy1HTiK-"
      }
    },
    {
      "cell_type": "code",
      "source": [
        "def num(e):\n",
        "  if e%2==0:\n",
        "    print('number is even',e)\n",
        "  else:\n",
        "    print('number is odd',e)"
      ],
      "metadata": {
        "id": "wsOxBodUBqgO"
      },
      "execution_count": 15,
      "outputs": []
    },
    {
      "cell_type": "code",
      "source": [
        "num(20)"
      ],
      "metadata": {
        "colab": {
          "base_uri": "https://localhost:8080/"
        },
        "id": "_e4nJD0GB1jE",
        "outputId": "a2ece0d7-f531-40cc-fd52-48e2cf0ca895"
      },
      "execution_count": 17,
      "outputs": [
        {
          "output_type": "stream",
          "name": "stdout",
          "text": [
            "number is even 20\n"
          ]
        }
      ]
    },
    {
      "cell_type": "code",
      "source": [
        "num(25)"
      ],
      "metadata": {
        "colab": {
          "base_uri": "https://localhost:8080/"
        },
        "id": "huT6mfaUBsmM",
        "outputId": "56bca672-10d1-4ce5-9921-a83a442a5bee"
      },
      "execution_count": 16,
      "outputs": [
        {
          "output_type": "stream",
          "name": "stdout",
          "text": [
            "number is odd 25\n"
          ]
        }
      ]
    },
    {
      "cell_type": "markdown",
      "source": [
        "Define a function to create and print a list where the values are square of numbers between 1 and 30 (both included)."
      ],
      "metadata": {
        "id": "eFB9qeBSTxRd"
      }
    },
    {
      "cell_type": "code",
      "source": [
        "def alist(i,j): #\n",
        "           blist=[]\n",
        "           for i in range(1,31):\n",
        "              blist.append(i**2)\n",
        "           print(blist)"
      ],
      "metadata": {
        "id": "yELBv7aIBDfu"
      },
      "execution_count": 13,
      "outputs": []
    },
    {
      "cell_type": "code",
      "source": [
        "alist(1,31)"
      ],
      "metadata": {
        "colab": {
          "base_uri": "https://localhost:8080/"
        },
        "id": "6c49ev20BGHf",
        "outputId": "34259656-9ae9-43b7-8397-a0105273acfc"
      },
      "execution_count": 14,
      "outputs": [
        {
          "output_type": "stream",
          "name": "stdout",
          "text": [
            "[1, 4, 9, 16, 25, 36, 49, 64, 81, 100, 121, 144, 169, 196, 225, 256, 289, 324, 361, 400, 441, 484, 529, 576, 625, 676, 729, 784, 841, 900]\n"
          ]
        }
      ]
    },
    {
      "cell_type": "markdown",
      "source": [
        "Define a function, shut_down, that takes one parameter. Then, if the shut_down function receives a value equal to \"yes\", it should print \"Shutting down\". Alternatively, if vallue is equal to \"no\", then the function should print \"Shutdown aborted\". Finally, if shut_down gets anything other than those inputs, the function should print \"Sorry\"."
      ],
      "metadata": {
        "id": "WPKsEW0dUIZF"
      }
    },
    {
      "cell_type": "code",
      "source": [
        "def operation(a):\n",
        "  if a=='yes':\n",
        "    print(\"shutting down\")\n",
        "  elif a=='no':\n",
        "     print('shutdown aborted')\n",
        "  else:\n",
        "    print('sorry we didnt get')"
      ],
      "metadata": {
        "id": "zraPcYEPAhWY"
      },
      "execution_count": 7,
      "outputs": []
    },
    {
      "cell_type": "code",
      "source": [
        "operation('yes')"
      ],
      "metadata": {
        "colab": {
          "base_uri": "https://localhost:8080/"
        },
        "id": "r7TJLjigAv6e",
        "outputId": "031fac34-23b3-47f2-e196-5b80cbc1ff77"
      },
      "execution_count": 10,
      "outputs": [
        {
          "output_type": "stream",
          "name": "stdout",
          "text": [
            "shutting down\n"
          ]
        }
      ]
    },
    {
      "cell_type": "code",
      "source": [
        "operation('no')"
      ],
      "metadata": {
        "colab": {
          "base_uri": "https://localhost:8080/"
        },
        "id": "33iV7z5MArCa",
        "outputId": "9c560c7f-3d2a-40c5-b1e6-847f8952a403"
      },
      "execution_count": 9,
      "outputs": [
        {
          "output_type": "stream",
          "name": "stdout",
          "text": [
            "shutdown aborted\n"
          ]
        }
      ]
    },
    {
      "cell_type": "code",
      "source": [
        "operation('saba')"
      ],
      "metadata": {
        "colab": {
          "base_uri": "https://localhost:8080/"
        },
        "id": "Bw8s13pnAlO2",
        "outputId": "4bfb39db-ca3e-4c92-fbd6-fd029aa01716"
      },
      "execution_count": 8,
      "outputs": [
        {
          "output_type": "stream",
          "name": "stdout",
          "text": [
            "sorry we didnt get\n"
          ]
        }
      ]
    },
    {
      "cell_type": "markdown",
      "source": [
        "\n",
        "\n",
        "Define a function called \"by_three\" that takes a parameter called number. If that number is divisible by 3, \"by_three\" should print the cube of the number. Otherwise, by_three should print False."
      ],
      "metadata": {
        "id": "KosfqTW8Ur_1"
      }
    },
    {
      "cell_type": "code",
      "source": [
        "def by_three(num):\n",
        "  if num%3==0:\n",
        "    print(num**3)\n",
        "  else:\n",
        "      print('False')"
      ],
      "metadata": {
        "id": "me3Z8zGmAHId"
      },
      "execution_count": 5,
      "outputs": []
    },
    {
      "cell_type": "code",
      "source": [
        "by_three(5)"
      ],
      "metadata": {
        "colab": {
          "base_uri": "https://localhost:8080/"
        },
        "id": "YaMfW_T8ATX7",
        "outputId": "6c2a730e-e4bf-4241-9ecf-50d38c73fe1a"
      },
      "execution_count": 6,
      "outputs": [
        {
          "output_type": "stream",
          "name": "stdout",
          "text": [
            "False\n"
          ]
        }
      ]
    },
    {
      "cell_type": "code",
      "source": [
        "by_three(6)"
      ],
      "metadata": {
        "colab": {
          "base_uri": "https://localhost:8080/"
        },
        "id": "paX7AvW7ALsC",
        "outputId": "8762e495-2652-470f-e967-133cab0aaefc"
      },
      "execution_count": 4,
      "outputs": [
        {
          "output_type": "stream",
          "name": "stdout",
          "text": [
            "216\n"
          ]
        }
      ]
    },
    {
      "cell_type": "markdown",
      "source": [
        "Define a function that takes a list and prints a new list with no duplicate elements given in the first list."
      ],
      "metadata": {
        "id": "EWbQXeU5WpdZ"
      }
    },
    {
      "cell_type": "code",
      "source": [
        "def alist(j):\n",
        "  blist=[]\n",
        "  for i in j :\n",
        "    if i not in blist:\n",
        "      blist.append(i)\n",
        "  print(blist)"
      ],
      "metadata": {
        "id": "BAtCg5oY33BO"
      },
      "execution_count": 1,
      "outputs": []
    },
    {
      "cell_type": "code",
      "source": [
        "alist([1,2,3,4,5,6,7,8,9,14,25,1,2,3,5,5,6])"
      ],
      "metadata": {
        "colab": {
          "base_uri": "https://localhost:8080/"
        },
        "id": "w-qblI6w_zDE",
        "outputId": "c41461ec-047e-4d61-c445-e2cd8c101942"
      },
      "execution_count": 2,
      "outputs": [
        {
          "output_type": "stream",
          "name": "stdout",
          "text": [
            "[1, 2, 3, 4, 5, 6, 7, 8, 9, 14, 25]\n"
          ]
        }
      ]
    }
  ]
}