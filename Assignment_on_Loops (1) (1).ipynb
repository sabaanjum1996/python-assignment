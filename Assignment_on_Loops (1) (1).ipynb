{
  "nbformat": 4,
  "nbformat_minor": 0,
  "metadata": {
    "colab": {
      "provenance": []
    },
    "kernelspec": {
      "name": "python3",
      "display_name": "Python 3"
    },
    "language_info": {
      "name": "python"
    }
  },
  "cells": [
    {
      "cell_type": "markdown",
      "source": [
        "Write a program which accepts month's name as input and display the number of days in the month as output"
      ],
      "metadata": {
        "id": "MdAkQQ_Y4wwG"
      }
    },
    {
      "cell_type": "code",
      "source": [
        "name_of_month=str(input('enter your month name  '))\n",
        "name_of_month=name_of_month.capitalize()\n",
        "for i in name_of_month:\n",
        " if  name_of_month in ('January','March','May','July','August','October','December'):\n",
        "  print('31 days')\n",
        " elif  name_of_month in ('April','June','September','November'):\n",
        "  print('30 days')\n",
        " elif  name_of_month in  ('February'):\n",
        "    print('28/29 days')\n",
        " else:\n",
        "    print('sorry you are input incorrect month name please try again')"
      ],
      "metadata": {
        "colab": {
          "base_uri": "https://localhost:8080/"
        },
        "id": "CevjZ0d9D2_Q",
        "outputId": "0a652d2d-1187-49bf-fc2b-b2c8d93697a2"
      },
      "execution_count": 10,
      "outputs": [
        {
          "output_type": "stream",
          "name": "stdout",
          "text": [
            "enter your month name  saba\n",
            "sorry you are input incorrect month name please try again\n",
            "sorry you are input incorrect month name please try again\n",
            "sorry you are input incorrect month name please try again\n",
            "sorry you are input incorrect month name please try again\n"
          ]
        }
      ]
    },
    {
      "cell_type": "markdown",
      "source": [
        "Take any word as input from the user and count the number of vowels in the word"
      ],
      "metadata": {
        "id": "Q8cCBC198J6M"
      }
    },
    {
      "cell_type": "code",
      "source": [
        "vowel_count=0\n",
        "word=str(input('enter your word '))\n",
        "for i in word:\n",
        "  if i=='a'or i=='e'or i=='i'or i=='o'or i=='u':\n",
        "    vowel_count=vowel_count+1\n",
        "print('total number of vowel is' , vowel_count)\n"
      ],
      "metadata": {
        "colab": {
          "base_uri": "https://localhost:8080/"
        },
        "id": "6ESqNjIKDmYL",
        "outputId": "fa345a95-688e-4447-896a-31fd65384cea"
      },
      "execution_count": 9,
      "outputs": [
        {
          "output_type": "stream",
          "name": "stdout",
          "text": [
            "enter your word sabaanjumkhan\n",
            "total number of vowel is 5\n"
          ]
        }
      ]
    },
    {
      "cell_type": "markdown",
      "source": [
        "Write a program to separate even and odd numbers in two distinct lists from a list of numbers of your choice"
      ],
      "metadata": {
        "id": "1ugWwVXd49OI"
      }
    },
    {
      "cell_type": "code",
      "source": [
        "my_list=[1,2,3,14,25,63,74,88,77,66,52,10,13,64,99,200]\n",
        "even_list=[]\n",
        "odd_list=[]\n",
        "for i in my_list:\n",
        "  if i%2==0:\n",
        "    even_list.append(i)\n",
        "  else:\n",
        "      odd_list.append(i)\n",
        "print('list of even numbers :',even_list)\n",
        "print('list of odd numbers :',odd_list)"
      ],
      "metadata": {
        "colab": {
          "base_uri": "https://localhost:8080/"
        },
        "id": "mbHt88pDCu1B",
        "outputId": "a9dc9652-dd8e-4abd-c2c3-e7490e96cae9"
      },
      "execution_count": 3,
      "outputs": [
        {
          "output_type": "stream",
          "name": "stdout",
          "text": [
            "list of even numbers : [2, 14, 74, 88, 66, 52, 10, 64, 200]\n",
            "list of odd numbers : [1, 3, 25, 63, 77, 13, 99]\n"
          ]
        }
      ]
    },
    {
      "cell_type": "markdown",
      "source": [
        "Write a program that appends datatype of elements from a list to a separate list"
      ],
      "metadata": {
        "id": "uaqnGrhs49Mf"
      }
    },
    {
      "cell_type": "code",
      "source": [
        "alist=[]\n",
        "blist=[12,1.2,\"apple\",24,0,\"saba\",True,False,'a+ij']\n",
        "for i in blist:\n",
        "  alist.append(type(i))\n",
        "print(alist)"
      ],
      "metadata": {
        "colab": {
          "base_uri": "https://localhost:8080/"
        },
        "id": "haSJ3aq_DKV_",
        "outputId": "3d192ba4-0fc1-4e56-9a42-f530a9c58c36"
      },
      "execution_count": 4,
      "outputs": [
        {
          "output_type": "stream",
          "name": "stdout",
          "text": [
            "[<class 'int'>, <class 'float'>, <class 'str'>, <class 'int'>, <class 'int'>, <class 'str'>, <class 'bool'>, <class 'bool'>, <class 'str'>]\n"
          ]
        }
      ]
    },
    {
      "cell_type": "markdown",
      "source": [
        "Write a program to display only those numbers from a list that satisfies the following conditions:\n",
        "\n",
        "1. The number must be divisible by 7\n",
        "\n",
        "2. If the number is 140 then skip it and move to the next number in the list\n",
        "\n",
        "3. If the number in the list is greater than 630 then stop the loop"
      ],
      "metadata": {
        "id": "ddMu0Pj1643Y"
      }
    },
    {
      "cell_type": "code",
      "source": [
        "my_list=[1,7,14,15,21,24,35,28,70,77,140,630,720,830,990]\n",
        "my_list2=[]\n",
        "for i in my_list:\n",
        "  if i%7==0:\n",
        "    my_list2.append(i)\n",
        "    if i==140:\n",
        "      continue\n",
        "  elif i>630:\n",
        "    break\n",
        "print(my_list2)"
      ],
      "metadata": {
        "colab": {
          "base_uri": "https://localhost:8080/"
        },
        "id": "ycAMABXNDXrW",
        "outputId": "2ee18412-8dbd-44a9-a7c6-bcef041c5547"
      },
      "execution_count": 5,
      "outputs": [
        {
          "output_type": "stream",
          "name": "stdout",
          "text": [
            "[7, 14, 21, 35, 28, 70, 77, 140, 630]\n"
          ]
        }
      ]
    }
  ]
}